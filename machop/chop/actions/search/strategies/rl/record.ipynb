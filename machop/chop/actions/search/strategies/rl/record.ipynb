{
 "cells": [
  {
   "cell_type": "code",
   "execution_count": null,
   "metadata": {},
   "outputs": [],
   "source": [
    "for learinig rate 2.5e-4/a2c"
   ]
  },
  {
   "cell_type": "markdown",
   "metadata": {},
   "source": [
    "Run summary:\n",
    "wandb: TimeLimit.truncated False\n",
    "wandb:            accuracy 0.5853\n",
    "wandb:    average_bitwidth 8.16826\n",
    "wandb:              reward 0.6013"
   ]
  },
  {
   "cell_type": "markdown",
   "metadata": {},
   "source": []
  }
 ],
 "metadata": {
  "language_info": {
   "name": "python"
  }
 },
 "nbformat": 4,
 "nbformat_minor": 2
}
